{
 "cells": [
  {
   "cell_type": "code",
   "execution_count": 1,
   "metadata": {},
   "outputs": [
    {
     "data": {
      "text/plain": [
       "array([[1., 1., 0., 0., 0., 0., 0., 0., 0., 0., 0., 0.],\n",
       "       [1., 0., 0., 0., 0., 0., 0., 0., 0., 0., 0., 0.],\n",
       "       [0., 0., 0., 0., 0., 0., 0., 0., 0., 0., 0., 0.],\n",
       "       [0., 0., 0., 0., 0., 0., 0., 0., 0., 0., 0., 0.],\n",
       "       [0., 0., 0., 0., 0., 0., 0., 0., 0., 0., 0., 0.],\n",
       "       [0., 0., 0., 0., 0., 0., 0., 0., 0., 0., 0., 0.],\n",
       "       [0., 0., 0., 0., 0., 0., 0., 0., 0., 0., 0., 0.],\n",
       "       [0., 0., 0., 0., 0., 0., 0., 0., 0., 0., 0., 0.],\n",
       "       [0., 0., 0., 0., 0., 0., 0., 0., 0., 0., 0., 0.],\n",
       "       [0., 0., 0., 0., 0., 0., 0., 0., 0., 0., 0., 0.]])"
      ]
     },
     "execution_count": 1,
     "metadata": {},
     "output_type": "execute_result"
    }
   ],
   "source": [
    "import numpy as np\n",
    "\n",
    "maze_map = np.zeros((10, 12))\n",
    "maze_map[0, 0] = 1\n",
    "maze_map[0, 1] = 1\n",
    "maze_map[1, 0] = 1\n",
    "maze_map"
   ]
  },
  {
   "cell_type": "code",
   "execution_count": 2,
   "metadata": {},
   "outputs": [],
   "source": [
    "from monte_carlo import MonteCarloModel, Policy, ValueAction, EnvironmentMaze\n",
    "\n",
    "maze = EnvironmentMaze(maze_map)\n",
    "policy = Policy()\n",
    "value_action = ValueAction()\n",
    "rl_model = MonteCarloModel(policy=policy, value_action=value_action, env=maze)"
   ]
  },
  {
   "cell_type": "code",
   "execution_count": 3,
   "metadata": {},
   "outputs": [
    {
     "data": {
      "text/plain": [
       "True"
      ]
     },
     "execution_count": 3,
     "metadata": {},
     "output_type": "execute_result"
    }
   ],
   "source": [
    "rl_model.train(10000)"
   ]
  },
  {
   "cell_type": "code",
   "execution_count": 4,
   "metadata": {},
   "outputs": [],
   "source": [
    "value_action_mapping = rl_model.value_action.value_action\n",
    "\n",
    "top10 = list({k: v for k, v in sorted(value_action_mapping.items(), key=lambda item: -1 * item[1])}.items())[:10]"
   ]
  },
  {
   "cell_type": "code",
   "execution_count": null,
   "metadata": {},
   "outputs": [],
   "source": []
  },
  {
   "cell_type": "code",
   "execution_count": 5,
   "metadata": {},
   "outputs": [
    {
     "name": "stdout",
     "output_type": "stream",
     "text": [
      "State: (0, 1)          Policy_action: left          Maximal value action: left\n",
      "State: (0, 0)          Policy_action: right          Maximal value action: right\n",
      "State: (1, 0)          Policy_action: up          Maximal value action: up\n",
      "State: (0, 2)          Policy_action: left          Maximal value action: left\n",
      "State: (0, 3)          Policy_action: left          Maximal value action: left\n",
      "State: (2, 0)          Policy_action: up          Maximal value action: up\n",
      "State: (1, 1)          Policy_action: left          Maximal value action: left\n",
      "State: (0, 0)          Policy_action: right          Maximal value action: down\n",
      "State: (1, 2)          Policy_action: left          Maximal value action: left\n",
      "State: (3, 0)          Policy_action: up          Maximal value action: up\n"
     ]
    }
   ],
   "source": [
    "for i in top10:\n",
    "    state, action = i[0]\n",
    "    print(f\"State: {state}{' ' * 10}Policy_action: {rl_model.policy.policy[state]}{' '*10}Maximal value action: {action}\")"
   ]
  },
  {
   "cell_type": "code",
   "execution_count": 6,
   "metadata": {},
   "outputs": [
    {
     "name": "stdout",
     "output_type": "stream",
     "text": [
      "(5, 3)\n",
      "000000000000\n",
      "000000000000\n",
      "000000000000\n",
      "000000000000\n",
      "000000000000\n",
      "000*00000000\n",
      "000000000000\n",
      "000000000000\n",
      "000000000000\n",
      "000000000000\n",
      "\n",
      "000000000000\n",
      "000000000000\n",
      "000000000000\n",
      "000000000000\n",
      "000000000000\n",
      "0000*0000000\n",
      "000000000000\n",
      "000000000000\n",
      "000000000000\n",
      "000000000000\n",
      "\n",
      "0.0 (5, 4)\n",
      "000000000000\n",
      "000000000000\n",
      "000000000000\n",
      "000000000000\n",
      "0000*0000000\n",
      "000000000000\n",
      "000000000000\n",
      "000000000000\n",
      "000000000000\n",
      "000000000000\n",
      "\n",
      "0.0 (4, 4)\n",
      "000000000000\n",
      "000000000000\n",
      "000000000000\n",
      "000000000000\n",
      "000*00000000\n",
      "000000000000\n",
      "000000000000\n",
      "000000000000\n",
      "000000000000\n",
      "000000000000\n",
      "\n",
      "0.0 (4, 3)\n",
      "000000000000\n",
      "000000000000\n",
      "000000000000\n",
      "000*00000000\n",
      "000000000000\n",
      "000000000000\n",
      "000000000000\n",
      "000000000000\n",
      "000000000000\n",
      "000000000000\n",
      "\n",
      "0.0 (3, 3)\n",
      "000000000000\n",
      "000000000000\n",
      "000*00000000\n",
      "000000000000\n",
      "000000000000\n",
      "000000000000\n",
      "000000000000\n",
      "000000000000\n",
      "000000000000\n",
      "000000000000\n",
      "\n",
      "0.0 (2, 3)\n",
      "000000000000\n",
      "000*00000000\n",
      "000000000000\n",
      "000000000000\n",
      "000000000000\n",
      "000000000000\n",
      "000000000000\n",
      "000000000000\n",
      "000000000000\n",
      "000000000000\n",
      "\n",
      "0.0 (1, 3)\n",
      "000000000000\n",
      "00*000000000\n",
      "000000000000\n",
      "000000000000\n",
      "000000000000\n",
      "000000000000\n",
      "000000000000\n",
      "000000000000\n",
      "000000000000\n",
      "000000000000\n",
      "\n",
      "0.0 (1, 2)\n",
      "000000000000\n",
      "0*0000000000\n",
      "000000000000\n",
      "000000000000\n",
      "000000000000\n",
      "000000000000\n",
      "000000000000\n",
      "000000000000\n",
      "000000000000\n",
      "000000000000\n",
      "\n",
      "0.0 (1, 1)\n",
      "000000000000\n",
      "*00000000000\n",
      "000000000000\n",
      "000000000000\n",
      "000000000000\n",
      "000000000000\n",
      "000000000000\n",
      "000000000000\n",
      "000000000000\n",
      "000000000000\n",
      "\n",
      "0.0 (1, 0)\n",
      "*00000000000\n",
      "000000000000\n",
      "000000000000\n",
      "000000000000\n",
      "000000000000\n",
      "000000000000\n",
      "000000000000\n",
      "000000000000\n",
      "000000000000\n",
      "000000000000\n",
      "\n",
      "1.0 (0, 0)\n"
     ]
    },
    {
     "data": {
      "text/plain": [
       "[]"
      ]
     },
     "execution_count": 6,
     "metadata": {},
     "output_type": "execute_result"
    }
   ],
   "source": [
    "maze.play(rl_model.policy, max_actions=10, press_to_move=False)"
   ]
  }
 ],
 "metadata": {
  "kernelspec": {
   "display_name": ".venv",
   "language": "python",
   "name": "python3"
  },
  "language_info": {
   "codemirror_mode": {
    "name": "ipython",
    "version": 3
   },
   "file_extension": ".py",
   "mimetype": "text/x-python",
   "name": "python",
   "nbconvert_exporter": "python",
   "pygments_lexer": "ipython3",
   "version": "3.12.6"
  }
 },
 "nbformat": 4,
 "nbformat_minor": 2
}
