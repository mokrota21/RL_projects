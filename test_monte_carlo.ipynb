{
 "cells": [
  {
   "cell_type": "code",
   "execution_count": 1,
   "metadata": {},
   "outputs": [],
   "source": [
    "class MazeState:\n",
    "    def __init__(self, y, x) -> None:\n",
    "        self.yx = (y, x)\n",
    "\n",
    "    def __eq__(self, other) -> bool:\n",
    "        if isinstance(other, MazeState):\n",
    "            return self.yx == other.yx\n",
    "        return False\n",
    "    \n",
    "    def __hash__(self) -> int:\n",
    "        return hash(self.yx)"
   ]
  },
  {
   "cell_type": "code",
   "execution_count": 14,
   "metadata": {},
   "outputs": [],
   "source": [
    "class MazeAction:\n",
    "    def __new__(cls, name: str):\n",
    "        if name.lower() == \"right\":\n",
    "            return super().__new__(Right)\n",
    "        elif name.lower() == \"left\":\n",
    "            return super().__new__(Left)\n",
    "        elif name.lower() == \"up\":\n",
    "            return super().__new__(Up)\n",
    "        elif name.lower() == \"down\":\n",
    "            return super().__new__(Down)\n",
    "        return super().__new__(cls)\n",
    "\n",
    "    def __init__(self, name: str) -> None:\n",
    "        pass\n",
    "\n",
    "    def do_action(self, state):\n",
    "        return state\n",
    "    \n",
    "    def __eq__(self, other) -> bool:\n",
    "        return isinstance(other, type(self))\n",
    "\n",
    "class Left(MazeAction):\n",
    "    def do_action(self, state: MazeState):\n",
    "        y, x = state.yx\n",
    "        x -= 1\n",
    "        return MazeState(y, x)\n",
    "\n",
    "class Right(MazeAction):\n",
    "    def do_action(self, state: MazeState):\n",
    "        y, x = state.yx\n",
    "        x += 1\n",
    "        return MazeState(y, x)\n",
    "\n",
    "class Up(MazeAction):\n",
    "    def do_action(self, state: MazeState):\n",
    "        y, x = state.yx\n",
    "        y -= 1\n",
    "        return MazeState(y, x)\n",
    "\n",
    "class Down(MazeAction):\n",
    "    def do_action(self, state: MazeState):\n",
    "        y, x = state.yx\n",
    "        y += 1\n",
    "        return MazeState(y, x)"
   ]
  },
  {
   "cell_type": "code",
   "execution_count": 15,
   "metadata": {},
   "outputs": [],
   "source": [
    "check_list = [MazeAction(\"\"), MazeAction(\"Up\"), MazeAction(\"down\"), MazeAction(\"right\"), MazeAction(\"left\")]"
   ]
  },
  {
   "cell_type": "code",
   "execution_count": 33,
   "metadata": {},
   "outputs": [
    {
     "name": "stdout",
     "output_type": "stream",
     "text": [
      "True <class '__main__.MazeAction'> <class '__main__.MazeAction'>\n",
      "False <class '__main__.MazeAction'> <class '__main__.Up'>\n",
      "False <class '__main__.MazeAction'> <class '__main__.Down'>\n",
      "False <class '__main__.MazeAction'> <class '__main__.Right'>\n",
      "False <class '__main__.MazeAction'> <class '__main__.Left'>\n",
      "False <class '__main__.Up'> <class '__main__.MazeAction'>\n",
      "True <class '__main__.Up'> <class '__main__.Up'>\n",
      "False <class '__main__.Up'> <class '__main__.Down'>\n",
      "False <class '__main__.Up'> <class '__main__.Right'>\n",
      "False <class '__main__.Up'> <class '__main__.Left'>\n",
      "False <class '__main__.Down'> <class '__main__.MazeAction'>\n",
      "False <class '__main__.Down'> <class '__main__.Up'>\n",
      "True <class '__main__.Down'> <class '__main__.Down'>\n",
      "False <class '__main__.Down'> <class '__main__.Right'>\n",
      "False <class '__main__.Down'> <class '__main__.Left'>\n",
      "False <class '__main__.Right'> <class '__main__.MazeAction'>\n",
      "False <class '__main__.Right'> <class '__main__.Up'>\n",
      "False <class '__main__.Right'> <class '__main__.Down'>\n",
      "True <class '__main__.Right'> <class '__main__.Right'>\n",
      "False <class '__main__.Right'> <class '__main__.Left'>\n",
      "False <class '__main__.Left'> <class '__main__.MazeAction'>\n",
      "False <class '__main__.Left'> <class '__main__.Up'>\n",
      "False <class '__main__.Left'> <class '__main__.Down'>\n",
      "False <class '__main__.Left'> <class '__main__.Right'>\n",
      "True <class '__main__.Left'> <class '__main__.Left'>\n"
     ]
    }
   ],
   "source": [
    "for action in check_list:\n",
    "    for action2 in check_list:\n",
    "        print(action == action2, type(action), type(action2))"
   ]
  },
  {
   "cell_type": "code",
   "execution_count": 18,
   "metadata": {},
   "outputs": [
    {
     "name": "stdout",
     "output_type": "stream",
     "text": [
      "<class '__main__.MazeAction'> (10, 10)\n",
      "<class '__main__.Up'> (9, 10)\n",
      "<class '__main__.Down'> (11, 10)\n",
      "<class '__main__.Right'> (10, 11)\n",
      "<class '__main__.Left'> (10, 9)\n"
     ]
    }
   ],
   "source": [
    "for action in check_list:\n",
    "    print(type(action), action.do_action(MazeState(10, 10)).yx)"
   ]
  }
 ],
 "metadata": {
  "kernelspec": {
   "display_name": ".venv",
   "language": "python",
   "name": "python3"
  },
  "language_info": {
   "codemirror_mode": {
    "name": "ipython",
    "version": 3
   },
   "file_extension": ".py",
   "mimetype": "text/x-python",
   "name": "python",
   "nbconvert_exporter": "python",
   "pygments_lexer": "ipython3",
   "version": "3.12.6"
  }
 },
 "nbformat": 4,
 "nbformat_minor": 2
}
