{
 "cells": [
  {
   "cell_type": "code",
   "execution_count": 1,
   "metadata": {},
   "outputs": [
    {
     "data": {
      "text/plain": [
       "array([[1., 1., 0., 0., 0., 0., 0., 0., 0., 0., 0., 0.],\n",
       "       [1., 0., 0., 0., 0., 0., 0., 0., 0., 0., 0., 0.],\n",
       "       [0., 0., 0., 0., 0., 0., 0., 0., 0., 0., 0., 0.],\n",
       "       [0., 0., 0., 0., 0., 0., 0., 0., 0., 0., 0., 0.],\n",
       "       [0., 0., 0., 0., 0., 0., 0., 0., 0., 0., 0., 0.],\n",
       "       [0., 0., 0., 0., 0., 0., 0., 0., 0., 0., 0., 0.],\n",
       "       [0., 0., 0., 0., 0., 0., 0., 0., 0., 0., 0., 0.],\n",
       "       [0., 0., 0., 0., 0., 0., 0., 0., 0., 0., 0., 0.],\n",
       "       [0., 0., 0., 0., 0., 0., 0., 0., 0., 0., 0., 0.],\n",
       "       [0., 0., 0., 0., 0., 0., 0., 0., 0., 0., 0., 0.]])"
      ]
     },
     "execution_count": 1,
     "metadata": {},
     "output_type": "execute_result"
    }
   ],
   "source": [
    "import numpy as np\n",
    "\n",
    "maze_map = np.zeros((10, 12))\n",
    "maze_map[0, 0] = 1\n",
    "maze_map[0, 1] = 1\n",
    "maze_map[1, 0] = 1\n",
    "maze_map"
   ]
  },
  {
   "cell_type": "code",
   "execution_count": 2,
   "metadata": {},
   "outputs": [],
   "source": [
    "from TD import TDModel, TDPolicy, TDValueAction, EnvironmentMaze\n",
    "\n",
    "maze = EnvironmentMaze(maze_map)\n",
    "policy = TDPolicy()\n",
    "value_action = TDValueAction()\n",
    "rl_model = TDModel(policy=policy, value_action=value_action, env=maze)"
   ]
  },
  {
   "cell_type": "code",
   "execution_count": 3,
   "metadata": {},
   "outputs": [
    {
     "data": {
      "text/plain": [
       "True"
      ]
     },
     "execution_count": 3,
     "metadata": {},
     "output_type": "execute_result"
    }
   ],
   "source": [
    "rl_model.train(10000)"
   ]
  },
  {
   "cell_type": "code",
   "execution_count": 4,
   "metadata": {},
   "outputs": [],
   "source": [
    "value_action_mapping = rl_model.value_action.value_action\n",
    "\n",
    "top10 = list({k: v for k, v in sorted(value_action_mapping.items(), key=lambda item: -1 * item[1])}.items())[:10]"
   ]
  },
  {
   "cell_type": "code",
   "execution_count": null,
   "metadata": {},
   "outputs": [],
   "source": []
  },
  {
   "cell_type": "code",
   "execution_count": 5,
   "metadata": {},
   "outputs": [
    {
     "ename": "KeyError",
     "evalue": "(2, 0)",
     "output_type": "error",
     "traceback": [
      "\u001b[1;31m---------------------------------------------------------------------------\u001b[0m",
      "\u001b[1;31mKeyError\u001b[0m                                  Traceback (most recent call last)",
      "Cell \u001b[1;32mIn[5], line 3\u001b[0m\n\u001b[0;32m      1\u001b[0m \u001b[38;5;28;01mfor\u001b[39;00m i \u001b[38;5;129;01min\u001b[39;00m top10:\n\u001b[0;32m      2\u001b[0m     state, action \u001b[38;5;241m=\u001b[39m i[\u001b[38;5;241m0\u001b[39m]\n\u001b[1;32m----> 3\u001b[0m     \u001b[38;5;28mprint\u001b[39m(\u001b[38;5;124mf\u001b[39m\u001b[38;5;124m\"\u001b[39m\u001b[38;5;124mState: \u001b[39m\u001b[38;5;132;01m{\u001b[39;00mstate\u001b[38;5;132;01m}\u001b[39;00m\u001b[38;5;132;01m{\u001b[39;00m\u001b[38;5;124m'\u001b[39m\u001b[38;5;124m \u001b[39m\u001b[38;5;124m'\u001b[39m\u001b[38;5;250m \u001b[39m\u001b[38;5;241m*\u001b[39m\u001b[38;5;250m \u001b[39m\u001b[38;5;241m10\u001b[39m\u001b[38;5;132;01m}\u001b[39;00m\u001b[38;5;124mPolicy_action: \u001b[39m\u001b[38;5;132;01m{\u001b[39;00m\u001b[43mrl_model\u001b[49m\u001b[38;5;241;43m.\u001b[39;49m\u001b[43mpolicy\u001b[49m\u001b[38;5;241;43m.\u001b[39;49m\u001b[43mpolicy\u001b[49m\u001b[43m[\u001b[49m\u001b[43mstate\u001b[49m\u001b[43m]\u001b[49m\u001b[38;5;132;01m}\u001b[39;00m\u001b[38;5;132;01m{\u001b[39;00m\u001b[38;5;124m'\u001b[39m\u001b[38;5;124m \u001b[39m\u001b[38;5;124m'\u001b[39m\u001b[38;5;241m*\u001b[39m\u001b[38;5;241m10\u001b[39m\u001b[38;5;132;01m}\u001b[39;00m\u001b[38;5;124mMaximal value action: \u001b[39m\u001b[38;5;132;01m{\u001b[39;00maction\u001b[38;5;132;01m}\u001b[39;00m\u001b[38;5;124m\"\u001b[39m)\n",
      "\u001b[1;31mKeyError\u001b[0m: (2, 0)"
     ]
    }
   ],
   "source": [
    "for i in top10:\n",
    "    state, action = i[0]\n",
    "    print(f\"State: {state}{' ' * 10}Policy_action: {rl_model.policy.policy[state]}{' '*10}Maximal value action: {action}\")"
   ]
  },
  {
   "cell_type": "code",
   "execution_count": 6,
   "metadata": {},
   "outputs": [
    {
     "name": "stdout",
     "output_type": "stream",
     "text": [
      "(8, 0)\n",
      "000000000000\n",
      "000000000000\n",
      "000000000000\n",
      "000000000000\n",
      "000000000000\n",
      "000000000000\n",
      "000000000000\n",
      "000000000000\n",
      "*00000000000\n",
      "000000000000\n",
      "\n",
      "000000000000\n",
      "000000000000\n",
      "000000000000\n",
      "000000000000\n",
      "000000000000\n",
      "000000000000\n",
      "000000000000\n",
      "*00000000000\n",
      "000000000000\n",
      "000000000000\n",
      "\n",
      "0.0 (7, 0)\n",
      "000000000000\n",
      "000000000000\n",
      "000000000000\n",
      "000000000000\n",
      "000000000000\n",
      "000000000000\n",
      "*00000000000\n",
      "000000000000\n",
      "000000000000\n",
      "000000000000\n",
      "\n",
      "0.0 (6, 0)\n",
      "000000000000\n",
      "000000000000\n",
      "000000000000\n",
      "000000000000\n",
      "000000000000\n",
      "*00000000000\n",
      "000000000000\n",
      "000000000000\n",
      "000000000000\n",
      "000000000000\n",
      "\n",
      "0.0 (5, 0)\n",
      "000000000000\n",
      "000000000000\n",
      "000000000000\n",
      "000000000000\n",
      "000000000000\n",
      "000000000000\n",
      "*00000000000\n",
      "000000000000\n",
      "000000000000\n",
      "000000000000\n",
      "\n",
      "0.0 (6, 0)\n",
      "000000000000\n",
      "000000000000\n",
      "000000000000\n",
      "000000000000\n",
      "000000000000\n",
      "000000000000\n",
      "0*0000000000\n",
      "000000000000\n",
      "000000000000\n",
      "000000000000\n",
      "\n",
      "0.0 (6, 1)\n",
      "000000000000\n",
      "000000000000\n",
      "000000000000\n",
      "000000000000\n",
      "000000000000\n",
      "0*0000000000\n",
      "000000000000\n",
      "000000000000\n",
      "000000000000\n",
      "000000000000\n",
      "\n",
      "0.0 (5, 1)\n",
      "000000000000\n",
      "000000000000\n",
      "000000000000\n",
      "000000000000\n",
      "000000000000\n",
      "00*000000000\n",
      "000000000000\n",
      "000000000000\n",
      "000000000000\n",
      "000000000000\n",
      "\n",
      "0.0 (5, 2)\n",
      "000000000000\n",
      "000000000000\n",
      "000000000000\n",
      "000000000000\n",
      "000000000000\n",
      "000*00000000\n",
      "000000000000\n",
      "000000000000\n",
      "000000000000\n",
      "000000000000\n",
      "\n",
      "0.0 (5, 3)\n",
      "000000000000\n",
      "000000000000\n",
      "000000000000\n",
      "000000000000\n",
      "000000000000\n",
      "0000*0000000\n",
      "000000000000\n",
      "000000000000\n",
      "000000000000\n",
      "000000000000\n",
      "\n",
      "0.0 (5, 4)\n",
      "000000000000\n",
      "000000000000\n",
      "000000000000\n",
      "000000000000\n",
      "000000000000\n",
      "000000000000\n",
      "0000*0000000\n",
      "000000000000\n",
      "000000000000\n",
      "000000000000\n",
      "\n",
      "0.0 (6, 4)\n"
     ]
    },
    {
     "data": {
      "text/plain": [
       "[]"
      ]
     },
     "execution_count": 6,
     "metadata": {},
     "output_type": "execute_result"
    }
   ],
   "source": [
    "maze.play(rl_model.policy, max_actions=10, press_to_move=False)"
   ]
  }
 ],
 "metadata": {
  "kernelspec": {
   "display_name": ".venv",
   "language": "python",
   "name": "python3"
  },
  "language_info": {
   "codemirror_mode": {
    "name": "ipython",
    "version": 3
   },
   "file_extension": ".py",
   "mimetype": "text/x-python",
   "name": "python",
   "nbconvert_exporter": "python",
   "pygments_lexer": "ipython3",
   "version": "3.12.6"
  }
 },
 "nbformat": 4,
 "nbformat_minor": 2
}
