{
 "cells": [
  {
   "cell_type": "code",
   "execution_count": 1,
   "metadata": {},
   "outputs": [
    {
     "data": {
      "text/plain": [
       "array([[1., 1., 0., 0., 0., 0., 0., 0., 0., 0., 0., 0.],\n",
       "       [1., 0., 0., 0., 0., 0., 0., 0., 0., 0., 0., 0.],\n",
       "       [0., 0., 0., 0., 0., 0., 0., 0., 0., 0., 0., 0.],\n",
       "       [0., 0., 0., 0., 0., 0., 0., 0., 0., 0., 0., 0.],\n",
       "       [0., 0., 0., 0., 0., 0., 0., 0., 0., 0., 0., 0.],\n",
       "       [0., 0., 0., 0., 0., 0., 0., 0., 0., 0., 0., 0.],\n",
       "       [0., 0., 0., 0., 0., 0., 0., 0., 0., 0., 0., 0.],\n",
       "       [0., 0., 0., 0., 0., 0., 0., 0., 0., 0., 0., 0.],\n",
       "       [0., 0., 0., 0., 0., 0., 0., 0., 0., 0., 0., 0.],\n",
       "       [0., 0., 0., 0., 0., 0., 0., 0., 0., 0., 0., 0.]])"
      ]
     },
     "execution_count": 1,
     "metadata": {},
     "output_type": "execute_result"
    }
   ],
   "source": [
    "import numpy as np\n",
    "\n",
    "maze_map = np.zeros((10, 12))\n",
    "maze_map[0, 0] = 1\n",
    "maze_map[0, 1] = 1\n",
    "maze_map[1, 0] = 1\n",
    "maze_map"
   ]
  },
  {
   "cell_type": "code",
   "execution_count": 2,
   "metadata": {},
   "outputs": [],
   "source": [
    "from monte_carlo import MonteCarloModel, Policy, ValueAction, EnvironmentMaze\n",
    "\n",
    "maze = EnvironmentMaze(maze_map)\n",
    "policy = Policy()\n",
    "value_action = ValueAction()\n",
    "rl_model = MonteCarloModel(policy=policy, value_action=value_action, env=maze)"
   ]
  },
  {
   "cell_type": "code",
   "execution_count": 3,
   "metadata": {},
   "outputs": [
    {
     "data": {
      "text/plain": [
       "True"
      ]
     },
     "execution_count": 3,
     "metadata": {},
     "output_type": "execute_result"
    }
   ],
   "source": [
    "rl_model.train(10000)"
   ]
  },
  {
   "cell_type": "code",
   "execution_count": 1,
   "metadata": {},
   "outputs": [
    {
     "name": "stdout",
     "output_type": "stream",
     "text": [
      "Collecting pygame\n",
      "  Downloading pygame-2.6.1-cp310-cp310-win_amd64.whl.metadata (13 kB)\n",
      "Downloading pygame-2.6.1-cp310-cp310-win_amd64.whl (10.6 MB)\n",
      "   ---------------------------------------- 0.0/10.6 MB ? eta -:--:--\n",
      "   -------- ------------------------------- 2.4/10.6 MB 12.3 MB/s eta 0:00:01\n",
      "   ------------ --------------------------- 3.4/10.6 MB 8.1 MB/s eta 0:00:01\n",
      "   ---------------- ----------------------- 4.5/10.6 MB 7.3 MB/s eta 0:00:01\n",
      "   --------------------------- ------------ 7.3/10.6 MB 8.9 MB/s eta 0:00:01\n",
      "   ---------------------------------------  10.5/10.6 MB 10.2 MB/s eta 0:00:01\n",
      "   ---------------------------------------- 10.6/10.6 MB 10.0 MB/s eta 0:00:00\n",
      "Installing collected packages: pygame\n",
      "Successfully installed pygame-2.6.1\n",
      "Note: you may need to restart the kernel to use updated packages.\n"
     ]
    }
   ],
   "source": [
    "%pip install pygame"
   ]
  },
  {
   "cell_type": "code",
   "execution_count": 4,
   "metadata": {},
   "outputs": [],
   "source": [
    "value_action_mapping = rl_model.value_action.value_action\n",
    "\n",
    "top10 = list({k: v for k, v in sorted(value_action_mapping.items(), key=lambda item: -1 * item[1])}.items())[:10]"
   ]
  },
  {
   "cell_type": "code",
   "execution_count": null,
   "metadata": {},
   "outputs": [],
   "source": []
  },
  {
   "cell_type": "code",
   "execution_count": 5,
   "metadata": {},
   "outputs": [
    {
     "name": "stdout",
     "output_type": "stream",
     "text": [
      "State: (0, 1)          Policy_action: left          Maximal value action: left\n",
      "State: (0, 0)          Policy_action: right          Maximal value action: right\n",
      "State: (1, 0)          Policy_action: up          Maximal value action: up\n",
      "State: (0, 2)          Policy_action: left          Maximal value action: left\n",
      "State: (0, 3)          Policy_action: left          Maximal value action: left\n",
      "State: (2, 0)          Policy_action: up          Maximal value action: up\n",
      "State: (1, 1)          Policy_action: left          Maximal value action: left\n",
      "State: (0, 0)          Policy_action: right          Maximal value action: down\n",
      "State: (1, 2)          Policy_action: left          Maximal value action: left\n",
      "State: (3, 0)          Policy_action: up          Maximal value action: up\n"
     ]
    }
   ],
   "source": [
    "for i in top10:\n",
    "    state, action = i[0]\n",
    "    print(f\"State: {state}{' ' * 10}Policy_action: {rl_model.policy.policy[state]}{' '*10}Maximal value action: {action}\")"
   ]
  },
  {
   "cell_type": "code",
   "execution_count": 6,
   "metadata": {},
   "outputs": [
    {
     "name": "stdout",
     "output_type": "stream",
     "text": [
      "(5, 3)\n",
      "000000000000\n",
      "000000000000\n",
      "000000000000\n",
      "000000000000\n",
      "000000000000\n",
      "000*00000000\n",
      "000000000000\n",
      "000000000000\n",
      "000000000000\n",
      "000000000000\n",
      "\n",
      "000000000000\n",
      "000000000000\n",
      "000000000000\n",
      "000000000000\n",
      "000000000000\n",
      "0000*0000000\n",
      "000000000000\n",
      "000000000000\n",
      "000000000000\n",
      "000000000000\n",
      "\n",
      "0.0 (5, 4)\n",
      "000000000000\n",
      "000000000000\n",
      "000000000000\n",
      "000000000000\n",
      "0000*0000000\n",
      "000000000000\n",
      "000000000000\n",
      "000000000000\n",
      "000000000000\n",
      "000000000000\n",
      "\n",
      "0.0 (4, 4)\n",
      "000000000000\n",
      "000000000000\n",
      "000000000000\n",
      "000000000000\n",
      "000*00000000\n",
      "000000000000\n",
      "000000000000\n",
      "000000000000\n",
      "000000000000\n",
      "000000000000\n",
      "\n",
      "0.0 (4, 3)\n",
      "000000000000\n",
      "000000000000\n",
      "000000000000\n",
      "000*00000000\n",
      "000000000000\n",
      "000000000000\n",
      "000000000000\n",
      "000000000000\n",
      "000000000000\n",
      "000000000000\n",
      "\n",
      "0.0 (3, 3)\n",
      "000000000000\n",
      "000000000000\n",
      "000*00000000\n",
      "000000000000\n",
      "000000000000\n",
      "000000000000\n",
      "000000000000\n",
      "000000000000\n",
      "000000000000\n",
      "000000000000\n",
      "\n",
      "0.0 (2, 3)\n",
      "000000000000\n",
      "000*00000000\n",
      "000000000000\n",
      "000000000000\n",
      "000000000000\n",
      "000000000000\n",
      "000000000000\n",
      "000000000000\n",
      "000000000000\n",
      "000000000000\n",
      "\n",
      "0.0 (1, 3)\n",
      "000000000000\n",
      "00*000000000\n",
      "000000000000\n",
      "000000000000\n",
      "000000000000\n",
      "000000000000\n",
      "000000000000\n",
      "000000000000\n",
      "000000000000\n",
      "000000000000\n",
      "\n",
      "0.0 (1, 2)\n",
      "000000000000\n",
      "0*0000000000\n",
      "000000000000\n",
      "000000000000\n",
      "000000000000\n",
      "000000000000\n",
      "000000000000\n",
      "000000000000\n",
      "000000000000\n",
      "000000000000\n",
      "\n",
      "0.0 (1, 1)\n",
      "000000000000\n",
      "*00000000000\n",
      "000000000000\n",
      "000000000000\n",
      "000000000000\n",
      "000000000000\n",
      "000000000000\n",
      "000000000000\n",
      "000000000000\n",
      "000000000000\n",
      "\n",
      "0.0 (1, 0)\n",
      "*00000000000\n",
      "000000000000\n",
      "000000000000\n",
      "000000000000\n",
      "000000000000\n",
      "000000000000\n",
      "000000000000\n",
      "000000000000\n",
      "000000000000\n",
      "000000000000\n",
      "\n",
      "1.0 (0, 0)\n"
     ]
    },
    {
     "data": {
      "text/plain": [
       "[]"
      ]
     },
     "execution_count": 6,
     "metadata": {},
     "output_type": "execute_result"
    }
   ],
   "source": [
    "maze.play(rl_model.policy, max_actions=10, press_to_move=False)"
   ]
  }
 ],
 "metadata": {
  "kernelspec": {
   "display_name": ".venv",
   "language": "python",
   "name": "python3"
  },
  "language_info": {
   "codemirror_mode": {
    "name": "ipython",
    "version": 3
   },
   "file_extension": ".py",
   "mimetype": "text/x-python",
   "name": "python",
   "nbconvert_exporter": "python",
   "pygments_lexer": "ipython3",
   "version": "3.10.11"
  }
 },
 "nbformat": 4,
 "nbformat_minor": 2
}
